{
 "cells": [
  {
   "cell_type": "code",
   "execution_count": 1,
   "metadata": {},
   "outputs": [
    {
     "name": "stdout",
     "output_type": "stream",
     "text": [
      "X:\n",
      " [[4.94], [-1.58], [-4.45], [-6.06], [-1.22], [-3.55], [0.36], [-3.24], [1.31], [2.17], [2.94], [-0.92], [-0.91], [1.24], [1.56], [-4.14], [3.75], [4.15], [0.33], [3.41], [2.27], [2.6], [1.06], [1.04], [2.74], [-0.71], [-2.75], [0.55], [-3.45], [1.09], [2.47], [-6.35], [1.83], [-0.68], [-3.83], [-2.03], [3.13], [0.92], [4.02], [3.89], [-1.81], [3.94], [-2.0], [0.54], [0.78], [2.15], [2.55], [-0.63], [1.06], [-0.36]]\n",
      "y:\n",
      " [4.37, 1.7, 1.88, 0.56, 2.23, 1.53, 2.99, 0.48, 2.76, 3.99, 3.25, 2.27, 2.0, 4.75, 3.52, 1.39, 4.9, 4.44, 2.72, 4.59, 5.3, 3.43, 2.53, 3.69, 3.1, 2.72, 2.82, 3.53, 1.77, 4.61, 4.24, 1.0, 3.84, 2.42, 0.67, 1.07, 3.19, 4.21, 5.24, 3.94, 2.85, 4.86, 1.31, 3.99, 2.92, 4.72, 3.83, 2.58, 2.89, 1.99]\n"
     ]
    }
   ],
   "source": [
    "import sys\n",
    "import numpy as np\n",
    "filename = \"Python-Machine-Learning-Cookbook/Chapter01/data_singlevar.txt\"\n",
    "X = []\n",
    "y = []\n",
    "\n",
    "with open(filename, 'r') as f:\n",
    "    for line in f.readlines():\n",
    "        data = [float(i) for i in line.split(',')]\n",
    "        xt, yt = data[:-1], data[-1]\n",
    "        X.append(xt)\n",
    "        y.append(yt)\n",
    "\n",
    "print (\"X:\\n\", X)\n",
    "print (\"y:\\n\", y)"
   ]
  },
  {
   "cell_type": "code",
   "execution_count": 2,
   "metadata": {},
   "outputs": [],
   "source": [
    "num_training = int(0.8*len(X))\n",
    "num_test = len(X) - num_training\n",
    "\n",
    "# Training data\n",
    "X_train = np.array(X[:num_training])\n",
    "y_train = np.array(y[:num_training])\n",
    "\n",
    "# Testing data\n",
    "X_test = np.array(X[num_training:])\n",
    "y_test = np.array(y[num_training:])"
   ]
  },
  {
   "cell_type": "code",
   "execution_count": 3,
   "metadata": {},
   "outputs": [
    {
     "data": {
      "text/plain": [
       "LinearRegression(copy_X=True, fit_intercept=True, n_jobs=None, normalize=False)"
      ]
     },
     "execution_count": 3,
     "metadata": {},
     "output_type": "execute_result"
    }
   ],
   "source": [
    "from sklearn import linear_model\n",
    "\n",
    "# Create linear regression object\n",
    "linear_regressor = linear_model.LinearRegression()\n",
    "\n",
    "# Train the model using the training sets\n",
    "linear_regressor.fit(X_train, y_train)"
   ]
  },
  {
   "cell_type": "code",
   "execution_count": 4,
   "metadata": {},
   "outputs": [
    {
     "data": {
      "image/png": "[encoded data removed]",
      "text/plain": [
       "<Figure size 432x288 with 1 Axes>"
      ]
     },
     "metadata": {
      "needs_background": "light"
     },
     "output_type": "display_data"
    }
   ],
   "source": [
    "# Plot the training data\n",
    "import matplotlib.pyplot as plt\n",
    "\n",
    "y_train_pred = linear_regressor.predict(X_train)\n",
    "plt.figure()\n",
    "plt.scatter(X_train, y_train, color='green')\n",
    "plt.plot(X_train, y_train_pred, color='black', linewidth=4)\n",
    "plt.title('Training data')\n",
    "plt.show()"
   ]
  },
  {
   "cell_type": "code",
   "execution_count": 5,
   "metadata": {},
   "outputs": [
    {
     "data": {
      "image/png": "[encoded data removed]",
      "text/plain": [
       "<Figure size 432x288 with 1 Axes>"
      ]
     },
     "metadata": {
      "needs_background": "light"
     },
     "output_type": "display_data"
    }
   ],
   "source": [
    "# Plot the test data\n",
    "y_test_pred = linear_regressor.predict(X_test)\n",
    "\n",
    "plt.scatter(X_test, y_test, color='green')\n",
    "plt.plot(X_test, y_test_pred, color='black', linewidth=4)\n",
    "plt.title('Test data')\n",
    "plt.show()"
   ]
  },
  {
   "cell_type": "code",
   "execution_count": 6,
   "metadata": {},
   "outputs": [
    {
     "name": "stdout",
     "output_type": "stream",
     "text": [
      "Mean absolute error:       0.539\n",
      "Mean squared error:        0.383\n",
      "Median absolute error:     0.543\n",
      "Explained variance score:  0.676\n",
      "R2 score:                  0.675\n"
     ]
    }
   ],
   "source": [
    "# Report on the metrics of this linear regression\n",
    "import sklearn.metrics as sm\n",
    "print (\"Mean absolute error:      \", round(sm.mean_absolute_error(y_test, y_test_pred), 3))\n",
    "print (\"Mean squared error:       \", round(sm.mean_squared_error(y_test, y_test_pred), 3))\n",
    "print (\"Median absolute error:    \", round(sm.median_absolute_error(y_test, y_test_pred), 3))\n",
    "print (\"Explained variance score: \", round(sm.explained_variance_score(y_test, y_test_pred), 3))\n",
    "print (\"R2 score:                 \", round(sm.r2_score(y_test, y_test_pred), 3))"
   ]
  },
  {
   "cell_type": "code",
   "execution_count": 7,
   "metadata": {
    "scrolled": true
   },
   "outputs": [],
   "source": [
    "# Save the regression model\n",
    "import pickle\n",
    "\n",
    "output_model_file = 'saved_model.pkl'\n",
    "with open(output_model_file, 'wb') as fw:\n",
    "    pickle.dump(linear_regressor, fw)\n",
    "fw.close()  "
   ]
  },
  {
   "cell_type": "code",
   "execution_count": 8,
   "metadata": {},
   "outputs": [
    {
     "name": "stdout",
     "output_type": "stream",
     "text": [
      "New mean absolute error:  0.539\n"
     ]
    }
   ],
   "source": [
    "# Load the saved regression model\n",
    "with open(output_model_file, 'rb') as fr:\n",
    "    model_linregr = pickle.load(fr)\n",
    "fr.close()\n",
    "\n",
    "y_test_pred_new = model_linregr.predict(X_test)\n",
    "print (\"New mean absolute error: \", round(sm.mean_absolute_error(y_test, y_test_pred_new), 3))"
   ]
  },
  {
   "cell_type": "code",
   "execution_count": null,
   "metadata": {},
   "outputs": [],
   "source": []
  }
 ],
 "metadata": {
  "kernelspec": {
   "display_name": "Python 3",
   "language": "python",
   "name": "python3"
  },
  "language_info": {
   "codemirror_mode": {
    "name": "ipython",
    "version": 3
   },
   "file_extension": ".py",
   "mimetype": "text/x-python",
   "name": "python",
   "nbconvert_exporter": "python",
   "pygments_lexer": "ipython3",
   "version": "3.7.6"
  }
 },
 "nbformat": 4,
 "nbformat_minor": 4
}
