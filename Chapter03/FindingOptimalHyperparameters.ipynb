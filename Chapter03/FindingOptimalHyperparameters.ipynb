{
 "cells": [
  {
   "cell_type": "code",
   "execution_count": 1,
   "metadata": {},
   "outputs": [],
   "source": [
    "import numpy as np\n",
    "import matplotlib.pyplot as plt\n",
    "from sklearn import svm, model_selection\n",
    "from sklearn.metrics import classification_report\n",
    "\n",
    "import utilities "
   ]
  },
  {
   "cell_type": "code",
   "execution_count": 2,
   "metadata": {},
   "outputs": [],
   "source": [
    "# Load input data\n",
    "input_file = 'data_multivar.txt'\n",
    "X, y = utilities.load_data(input_file)"
   ]
  },
  {
   "cell_type": "code",
   "execution_count": 3,
   "metadata": {},
   "outputs": [],
   "source": [
    "# Train test split\n",
    "\n",
    "X_train, X_test, y_train, y_test = model_selection.train_test_split(X, y, test_size=0.25, random_state=5)"
   ]
  },
  {
   "cell_type": "code",
   "execution_count": 4,
   "metadata": {},
   "outputs": [],
   "source": [
    "# Set the parameters by cross-validation\n",
    "parameter_grid = [  {'kernel': ['linear'], 'C': [1, 10, 50, 600]},\n",
    "                    {'kernel': ['poly'], 'degree': [2, 3]},\n",
    "                    {'kernel': ['rbf'], 'gamma': [0.01, 0.001], 'C': [1, 10, 50, 600]},\n",
    "                 ]\n",
    "\n",
    "metrics = ['precision', 'recall_weighted']"
   ]
  },
  {
   "cell_type": "code",
   "execution_count": 5,
   "metadata": {},
   "outputs": [
    {
     "name": "stdout",
     "output_type": "stream",
     "text": [
      "########################################\n",
      "Searching optimal hyperparameters for precision\n",
      "{'C': 1, 'kernel': 'linear'} --> 0.676\n",
      "{'C': 10, 'kernel': 'linear'} --> 0.676\n",
      "{'C': 50, 'kernel': 'linear'} --> 0.676\n",
      "{'C': 600, 'kernel': 'linear'} --> 0.676\n",
      "{'degree': 2, 'kernel': 'poly'} --> 0.874\n",
      "{'degree': 3, 'kernel': 'poly'} --> 0.872\n",
      "{'C': 1, 'gamma': 0.01, 'kernel': 'rbf'} --> 0.98\n",
      "{'C': 1, 'gamma': 0.001, 'kernel': 'rbf'} --> 0.533\n",
      "{'C': 10, 'gamma': 0.01, 'kernel': 'rbf'} --> 0.983\n",
      "{'C': 10, 'gamma': 0.001, 'kernel': 'rbf'} --> 0.543\n",
      "{'C': 50, 'gamma': 0.01, 'kernel': 'rbf'} --> 0.959\n",
      "{'C': 50, 'gamma': 0.001, 'kernel': 'rbf'} --> 0.806\n",
      "{'C': 600, 'gamma': 0.01, 'kernel': 'rbf'} --> 0.967\n",
      "{'C': 600, 'gamma': 0.001, 'kernel': 'rbf'} --> 0.983\n",
      "Highest scoring parameter set: {'C': 10, 'gamma': 0.01, 'kernel': 'rbf'}\n",
      "\n",
      "Full performance report:\n",
      "              precision    recall  f1-score   support\n",
      "\n",
      "         0.0       0.92      0.98      0.95        45\n",
      "         1.0       0.96      0.87      0.91        30\n",
      "\n",
      "    accuracy                           0.93        75\n",
      "   macro avg       0.94      0.92      0.93        75\n",
      "weighted avg       0.94      0.93      0.93        75\n",
      "\n",
      "########################################\n",
      "Searching optimal hyperparameters for recall_weighted\n",
      "{'C': 1, 'kernel': 'linear'} --> 0.591\n",
      "{'C': 10, 'kernel': 'linear'} --> 0.591\n",
      "{'C': 50, 'kernel': 'linear'} --> 0.591\n",
      "{'C': 600, 'kernel': 'linear'} --> 0.591\n",
      "{'degree': 2, 'kernel': 'poly'} --> 0.867\n",
      "{'degree': 3, 'kernel': 'poly'} --> 0.884\n",
      "{'C': 1, 'gamma': 0.01, 'kernel': 'rbf'} --> 0.831\n",
      "{'C': 1, 'gamma': 0.001, 'kernel': 'rbf'} --> 0.533\n",
      "{'C': 10, 'gamma': 0.01, 'kernel': 'rbf'} --> 0.92\n",
      "{'C': 10, 'gamma': 0.001, 'kernel': 'rbf'} --> 0.524\n",
      "{'C': 50, 'gamma': 0.01, 'kernel': 'rbf'} --> 0.947\n",
      "{'C': 50, 'gamma': 0.001, 'kernel': 'rbf'} --> 0.671\n",
      "{'C': 600, 'gamma': 0.01, 'kernel': 'rbf'} --> 0.951\n",
      "{'C': 600, 'gamma': 0.001, 'kernel': 'rbf'} --> 0.916\n",
      "Highest scoring parameter set: {'C': 600, 'gamma': 0.01, 'kernel': 'rbf'}\n",
      "\n",
      "Full performance report:\n",
      "              precision    recall  f1-score   support\n",
      "\n",
      "         0.0       0.98      0.91      0.94        45\n",
      "         1.0       0.88      0.97      0.92        30\n",
      "\n",
      "    accuracy                           0.93        75\n",
      "   macro avg       0.93      0.94      0.93        75\n",
      "weighted avg       0.94      0.93      0.93        75\n",
      "\n"
     ]
    }
   ],
   "source": [
    "for metric in metrics:\n",
    "    print (\"#\"*40)\n",
    "    print (\"Searching optimal hyperparameters for\", metric)\n",
    "\n",
    "    classifier = model_selection.GridSearchCV(svm.SVC(C=1), \n",
    "            parameter_grid, cv=5, scoring=metric)\n",
    "    classifier.fit(X_train, y_train)\n",
    "\n",
    "    params = classifier.cv_results_['params']\n",
    "    mean_test_score = classifier.cv_results_['mean_test_score']\n",
    "    i=0\n",
    "    while (i < len(params)):\n",
    "        print(params[i], '-->', round(mean_test_score[i], 3))\n",
    "        i = i+1\n",
    "    \n",
    "    print (\"Highest scoring parameter set:\", classifier.best_params_)\n",
    "\n",
    "    y_true, y_pred = y_test, classifier.predict(X_test)\n",
    "    print (\"\\nFull performance report:\")\n",
    "    print (classification_report(y_true, y_pred))\n"
   ]
  }
 ],
 "metadata": {
  "kernelspec": {
   "display_name": "Python 3",
   "language": "python",
   "name": "python3"
  },
  "language_info": {
   "codemirror_mode": {
    "name": "ipython",
    "version": 3
   },
   "file_extension": ".py",
   "mimetype": "text/x-python",
   "name": "python",
   "nbconvert_exporter": "python",
   "pygments_lexer": "ipython3",
   "version": "3.7.6"
  }
 },
 "nbformat": 4,
 "nbformat_minor": 4
}
