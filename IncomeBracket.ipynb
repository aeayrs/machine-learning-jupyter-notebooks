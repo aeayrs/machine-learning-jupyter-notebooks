{
 "cells": [
  {
   "cell_type": "code",
   "execution_count": null,
   "metadata": {},
   "outputs": [],
   "source": [
    "import numpy as np\n",
    "from sklearn import preprocessing\n",
    "from sklearn.naive_bayes import GaussianNB"
   ]
  },
  {
   "cell_type": "code",
   "execution_count": null,
   "metadata": {},
   "outputs": [],
   "source": [
    "input_file = \"Python-Machine-Learning-Cookbook/Chapter02/adult.data.txt\"\n",
    "\n",
    "# Reading the data\n",
    "X = []\n",
    "y = []\n",
    "count_lessthan50k = 0\n",
    "count_morethan50k = 0\n",
    "num_images_threshold = 10000\n",
    "\n",
    "with open(input_file, 'r') as f:\n",
    "    for line in f.readlines():\n",
    "        if '?' in line:\n",
    "            continue\n",
    "        \n",
    "        data = line[:-1].split(', ')\n",
    "        if data[-1] == '<=50K' and count_lessthan50k  < num_images_threshold:\n",
    "            X.append(data)\n",
    "            count_lessthan50k = count_lessthan50k + 1\n",
    "        elif data[-1] == '>50K' and count_morethan50k  < num_images_threshold:\n",
    "            X.append(data)\n",
    "            count_morethan50k = count_morethan50k + 1\n",
    "        \n",
    "        if count_lessthan50k >= num_images_threshold and count_morethan50k >= num_images_threshold:\n",
    "            break\n",
    "\n",
    "X = np.array(X) "
   ]
  },
  {
   "cell_type": "code",
   "execution_count": null,
   "metadata": {},
   "outputs": [],
   "source": [
    "# convert string data to numerical data\n",
    "label_encoder = []\n",
    "X_encoded = np.empty(X.shape)\n",
    "\n",
    "for i,item in enumerate(X[0]):\n",
    "    if item.isdigit():\n",
    "        X_encoded[:,i] = X[:,i]\n",
    "    else:\n",
    "        label_encoder.append(preprocessing.LabelEncoder())\n",
    "        X_encoded[:,i] = label_encoder[-1].fit_transform(X[:,i])\n",
    "X = X_encoded[:, :-1].astype(int)\n",
    "y = X_encoded[:, -1].astype(int)"
   ]
  },
  {
   "cell_type": "code",
   "execution_count": null,
   "metadata": {},
   "outputs": [],
   "source": [
    "# Build a classifier\n",
    "classifier_gaussiannb = GaussianNB()\n",
    "classifier_gaussiannb.fit(X, y)"
   ]
  },
  {
   "cell_type": "code",
   "execution_count": null,
   "metadata": {},
   "outputs": [],
   "source": [
    "# cross validation\n",
    "from sklearn import model_selection\n",
    "\n",
    "X_train, X_test, y_train, y_test = model_selection.train_test_split(X, y, test_size=0.25, random_state=5)\n",
    "classifier_gaussiannb.fit(X_train, y_train)\n",
    "y_test_pred = classifier_gaussiannb.predict(X_test)"
   ]
  },
  {
   "cell_type": "code",
   "execution_count": null,
   "metadata": {},
   "outputs": [],
   "source": [
    "# compute F1 score of the classifier\n",
    "f1 = model_selection.cross_val_score(classifier_gaussiannb, X, y, scoring='f1_weighted', cv=5)\n",
    "print (\"F1 score: {}%\".format(round(100*f1.mean(), 3)))"
   ]
  },
  {
   "cell_type": "code",
   "execution_count": null,
   "metadata": {},
   "outputs": [],
   "source": [
    "# Testing encoding on single data instance\n",
    "input_data = ['39', 'State-gov', '77516', 'Bachelors', '13', 'Never-married',\n",
    "             'Adm-clerical', 'Not-in-family', 'White', 'Male', '2174', \n",
    "             '0', '40', 'United-States']\n",
    "count = 0\n",
    "input_data_encoded = [-1] * len(input_data)\n",
    "for i,item in enumerate(input_data):\n",
    "    if item.isdigit():\n",
    "        input_data_encoded[i] = input_data[i]\n",
    "    else:\n",
    "        input_data_encoded[i] = int(label_encoder[count].transform([input_data[i]]))\n",
    "        count = count + 1\n",
    "input_data_encoded = np.array(input_data_encoded)\n",
    "print(input_data_encoded)"
   ]
  },
  {
   "cell_type": "code",
   "execution_count": null,
   "metadata": {},
   "outputs": [],
   "source": [
    "# Predict and print output for a particular datapoint\n",
    "idata_encoded_typed = input_data_encoded.astype(np.int)\n",
    "output_class = classifier_gaussiannb.predict([input_data_encoded.astype(np.int)])\n",
    "print (label_encoder[-1].inverse_transform(output_class))"
   ]
  }
 ],
 "metadata": {
  "kernelspec": {
   "display_name": "Python 3",
   "language": "python",
   "name": "python3"
  },
  "language_info": {
   "codemirror_mode": {
    "name": "ipython",
    "version": 3
   },
   "file_extension": ".py",
   "mimetype": "text/x-python",
   "name": "python",
   "nbconvert_exporter": "python",
   "pygments_lexer": "ipython3",
   "version": "3.6.9"
  }
 },
 "nbformat": 4,
 "nbformat_minor": 4
}
