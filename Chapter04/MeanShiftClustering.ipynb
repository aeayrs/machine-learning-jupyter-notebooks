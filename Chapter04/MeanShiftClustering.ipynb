{
 "cells": [
  {
   "cell_type": "markdown",
   "metadata": {},
   "source": [
    "The **Mean Shift** is a powerful unsupervised learning algorithm that's used to cluster datapoints.\n",
    "It considers the distribution of datapoints as a probability-density function and tries to\n",
    "find the *modes* in the feature space. These *modes* are basically points corresponding to local maxima.\n",
    "The main advantage of Mean Shift algorithm is that we are not required to know the number of\n",
    "clusters beforehand.\n",
    "\n",
    "Let's say that we have a set of input points, and we are trying to find clusters in them without\n",
    "knowing how many clusters we are looking for. Mean Shift algorithm considers these points\n",
    "to be sampled from a probability density function. If there are clusters in the datapoints,\n",
    "then they correspond to the peaks of that probability-density function. The algorithm starts\n",
    "from random points and iteratively converges toward these peaks.  You can learn more about it at\n",
    "http://homepages.inf.ed.ac.uk/rvf/CVonline/LOCAL_COPIES/TUEZEL1/MeanShift.pdf"
   ]
  },
  {
   "cell_type": "code",
   "execution_count": 1,
   "metadata": {},
   "outputs": [],
   "source": [
    "import numpy as np\n",
    "from sklearn.cluster import MeanShift, estimate_bandwidth\n",
    "\n",
    "import utilities"
   ]
  },
  {
   "cell_type": "code",
   "execution_count": 2,
   "metadata": {},
   "outputs": [],
   "source": [
    "# Load data from input file\n",
    "X = utilities.load_data('data_multivar.txt')"
   ]
  },
  {
   "cell_type": "code",
   "execution_count": 3,
   "metadata": {},
   "outputs": [],
   "source": [
    "# Estimating the bandwidth \n",
    "bandwidth = estimate_bandwidth(X, quantile=0.1, n_samples=len(X))"
   ]
  },
  {
   "cell_type": "code",
   "execution_count": 4,
   "metadata": {},
   "outputs": [
    {
     "name": "stdout",
     "output_type": "stream",
     "text": [
      "Number of clusters in input data = 4\n"
     ]
    }
   ],
   "source": [
    "# Compute clustering with MeanShift\n",
    "meanshift_estimator = MeanShift(bandwidth=bandwidth, bin_seeding=True)\n",
    "\n",
    "# Train the model\n",
    "meanshift_estimator.fit(X)\n",
    "\n",
    "# Extract the labels\n",
    "labels = meanshift_estimator.labels_\n",
    "\n",
    "# Extract the centroids of the clusters\n",
    "centroids = meanshift_estimator.cluster_centers_\n",
    "num_clusters = len(np.unique(labels))\n",
    "\n",
    "print (\"Number of clusters in input data =\", num_clusters)"
   ]
  },
  {
   "cell_type": "code",
   "execution_count": 5,
   "metadata": {},
   "outputs": [
    {
     "data": {
      "text/plain": [
       "<Figure size 432x288 with 0 Axes>"
      ]
     },
     "execution_count": 5,
     "metadata": {},
     "output_type": "execute_result"
    },
    {
     "data": {
      "text/plain": [
       "<Figure size 432x288 with 0 Axes>"
      ]
     },
     "metadata": {},
     "output_type": "display_data"
    }
   ],
   "source": [
    "# Plot the points and centroids \n",
    "\n",
    "import matplotlib.pyplot as plt\n",
    "from itertools import cycle\n",
    "\n",
    "plt.figure()\n",
    "\n",
    "# specify marker shapes for different clusters\n",
    "markers = '.*xv'\n",
    "\n",
    "for i, marker in zip(range(num_clusters), markers):\n",
    "    # plot the points belong to the current cluster\n",
    "    plt.scatter(X[labels==i, 0], X[labels==i, 1], marker=marker, color='k')\n",
    "\n",
    "    # plot the centroid of the current cluster\n",
    "    centroid = centroids[i]\n",
    "    plt.plot(centroid[0], centroid[1], marker='o', markerfacecolor='k',\n",
    "             markeredgecolor='k', markersize=15)\n",
    "\n",
    "plt.title('Clusters and their centroids')\n",
    "plt.show()\n"
   ]
  }
 ],
 "metadata": {
  "kernelspec": {
   "display_name": "Python 3",
   "language": "python",
   "name": "python3"
  },
  "language_info": {
   "codemirror_mode": {
    "name": "ipython",
    "version": 3
   },
   "file_extension": ".py",
   "mimetype": "text/x-python",
   "name": "python",
   "nbconvert_exporter": "python",
   "pygments_lexer": "ipython3",
   "version": "3.7.6"
  }
 },
 "nbformat": 4,
 "nbformat_minor": 4
}
