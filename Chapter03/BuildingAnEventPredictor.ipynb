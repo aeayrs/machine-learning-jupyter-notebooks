{
 "cells": [
  {
   "cell_type": "code",
   "execution_count": 1,
   "metadata": {},
   "outputs": [],
   "source": [
    "import numpy as np\n",
    "from sklearn import preprocessing\n",
    "from sklearn.svm import SVC"
   ]
  },
  {
   "cell_type": "code",
   "execution_count": 2,
   "metadata": {},
   "outputs": [],
   "source": [
    "# Reading the data\n",
    "input_file = 'building_event_multiclass.txt'\n",
    "X = []\n",
    "count = 0\n",
    "with open(input_file, 'r') as f:\n",
    "    for line in f.readlines():\n",
    "        data = line[:-1].split(',')\n",
    "        # 'Day of Week', 'Date', 'Time', 'Num Out', 'Num In', 'EventOrNot'\n",
    "        # No need for the date (data[1])\n",
    "        X.append([data[0]] + data[2:])\n",
    "X = np.array(X)"
   ]
  },
  {
   "cell_type": "code",
   "execution_count": 3,
   "metadata": {},
   "outputs": [],
   "source": [
    "# Convert string data to numeric data\n",
    "label_encoder = []\n",
    "X_encoded = np.empty(X.shape)\n",
    "for i,item in enumerate(X[0]):\n",
    "    if item.isdigit():\n",
    "        X_encoded[:, i] = X[:, i]\n",
    "    else:\n",
    "        label_encoder.append(preprocessing.LabelEncoder())\n",
    "        X_encoded[:, i] = label_encoder[-1].fit_transform(X[:, i])\n",
    "X = X_encoded[:, :-1].astype(int)\n",
    "y = X_encoded[:, -1].astype(int)"
   ]
  },
  {
   "cell_type": "code",
   "execution_count": 4,
   "metadata": {},
   "outputs": [
    {
     "data": {
      "text/plain": [
       "SVC(C=1.0, break_ties=False, cache_size=200, class_weight='balanced', coef0=0.0,\n",
       "    decision_function_shape='ovr', degree=3, gamma='scale', kernel='rbf',\n",
       "    max_iter=-1, probability=True, random_state=None, shrinking=True, tol=0.001,\n",
       "    verbose=False)"
      ]
     },
     "execution_count": 4,
     "metadata": {},
     "output_type": "execute_result"
    }
   ],
   "source": [
    "# Build the SVM (Support Vector Machine)\n",
    "params = {'kernel': 'rbf', 'probability': True, 'class_weight': 'balanced'}\n",
    "classifier = SVC(**params)\n",
    "classifier.fit(X, y)"
   ]
  },
  {
   "cell_type": "code",
   "execution_count": 5,
   "metadata": {},
   "outputs": [
    {
     "name": "stdout",
     "output_type": "stream",
     "text": [
      "Accuracy of the classifier:  58.51%\n"
     ]
    }
   ],
   "source": [
    "# Cross validation\n",
    "from sklearn import model_selection\n",
    "\n",
    "accuracy = model_selection.cross_val_score(classifier, X, y, scoring='accuracy', cv=3)\n",
    "print (\"Accuracy of the classifier:  {}%\".format(round(100*accuracy.mean(),2)))"
   ]
  },
  {
   "cell_type": "code",
   "execution_count": 6,
   "metadata": {},
   "outputs": [],
   "source": [
    "# Testing with a new datapoint\n",
    "input_data = ['Tuesday', '12:30:00', '21', '32']\n",
    "input_data_encoded = [-1] * len(input_data)\n",
    "count = 0\n",
    "for i, item in enumerate(input_data):\n",
    "    if item.isdigit():\n",
    "        input_data_encoded[i] = int(input_data[i])\n",
    "    else:\n",
    "        input_data_encoded[i] = int(label_encoder[count].transform([input_data[i]]))\n",
    "        count = count + 1\n",
    "input_data_encoded = np.array(input_data_encoded)"
   ]
  },
  {
   "cell_type": "code",
   "execution_count": 7,
   "metadata": {},
   "outputs": [
    {
     "name": "stdout",
     "output_type": "stream",
     "text": [
      "Output class:  ['eventB']\n"
     ]
    }
   ],
   "source": [
    "# Predict and print output for a particular datapoint\n",
    "output_class = classifier.predict(input_data_encoded.reshape(1, -1))\n",
    "print (\"Output class: \", label_encoder[-1].inverse_transform(output_class))"
   ]
  },
  {
   "cell_type": "code",
   "execution_count": null,
   "metadata": {},
   "outputs": [],
   "source": []
  }
 ],
 "metadata": {
  "kernelspec": {
   "display_name": "Python 3",
   "language": "python",
   "name": "python3"
  },
  "language_info": {
   "codemirror_mode": {
    "name": "ipython",
    "version": 3
   },
   "file_extension": ".py",
   "mimetype": "text/x-python",
   "name": "python",
   "nbconvert_exporter": "python",
   "pygments_lexer": "ipython3",
   "version": "3.7.6"
  }
 },
 "nbformat": 4,
 "nbformat_minor": 4
}
