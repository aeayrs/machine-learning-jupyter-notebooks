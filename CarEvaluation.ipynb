{
 "cells": [
  {
   "cell_type": "code",
   "execution_count": 1,
   "metadata": {},
   "outputs": [],
   "source": [
    "import numpy as np\n",
    "from sklearn import preprocessing\n",
    "from sklearn.ensemble import RandomForestClassifier\n",
    "import matplotlib.pyplot as plt"
   ]
  },
  {
   "cell_type": "code",
   "execution_count": 2,
   "metadata": {},
   "outputs": [
    {
     "name": "stdout",
     "output_type": "stream",
     "text": [
      "[['vhigh' 'vhigh' '2' ... 'small' 'low' 'unacc']\n",
      " ['vhigh' 'vhigh' '2' ... 'small' 'med' 'unacc']\n",
      " ['vhigh' 'vhigh' '2' ... 'small' 'high' 'unacc']\n",
      " ...\n",
      " ['low' 'low' '5more' ... 'big' 'low' 'unacc']\n",
      " ['low' 'low' '5more' ... 'big' 'med' 'good']\n",
      " ['low' 'low' '5more' ... 'big' 'high' 'vgood']]\n"
     ]
    }
   ],
   "source": [
    "input_file = 'Python-Machine-Learning-Cookbook/Chapter02/car.data.txt'\n",
    "\n",
    "# Reading the data\n",
    "X = []\n",
    "y = []\n",
    "count = 0\n",
    "with open(input_file, 'r') as f:\n",
    "    for line in f.readlines():\n",
    "        data = line[:-1].split(',')\n",
    "        X.append(data)\n",
    "\n",
    "X = np.array(X)\n",
    "print(X)"
   ]
  },
  {
   "cell_type": "code",
   "execution_count": 3,
   "metadata": {},
   "outputs": [
    {
     "name": "stdout",
     "output_type": "stream",
     "text": [
      "['vhigh' 'vhigh' 'vhigh' ... 'low' 'low' 'low']\n",
      "['vhigh' 'vhigh' 'vhigh' ... 'low' 'low' 'low']\n",
      "['2' '2' '2' ... '5more' '5more' '5more']\n",
      "['2' '2' '2' ... 'more' 'more' 'more']\n",
      "['small' 'small' 'small' ... 'big' 'big' 'big']\n",
      "['low' 'med' 'high' ... 'low' 'med' 'high']\n",
      "['unacc' 'unacc' 'unacc' ... 'unacc' 'good' 'vgood']\n"
     ]
    }
   ],
   "source": [
    "# Convert string data to numerical data\n",
    "label_encoder = []\n",
    "X_encoded = np.empty(X.shape)\n",
    "for i,item in enumerate(X[0]):\n",
    "    label_encoder.append(preprocessing.LabelEncoder())\n",
    "    print (X[:,i])\n",
    "    X_encoded[:,i] = label_encoder[-1].fit_transform(X[:,i])\n",
    "X = X_encoded[:, :-1].astype(int)\n",
    "y = X_encoded[:, -1].astype(int)"
   ]
  },
  {
   "cell_type": "code",
   "execution_count": 4,
   "metadata": {},
   "outputs": [
    {
     "data": {
      "text/plain": [
       "RandomForestClassifier(bootstrap=True, ccp_alpha=0.0, class_weight=None,\n",
       "                       criterion='gini', max_depth=8, max_features='auto',\n",
       "                       max_leaf_nodes=None, max_samples=None,\n",
       "                       min_impurity_decrease=0.0, min_impurity_split=None,\n",
       "                       min_samples_leaf=1, min_samples_split=2,\n",
       "                       min_weight_fraction_leaf=0.0, n_estimators=200,\n",
       "                       n_jobs=None, oob_score=False, random_state=7, verbose=0,\n",
       "                       warm_start=False)"
      ]
     },
     "execution_count": 4,
     "metadata": {},
     "output_type": "execute_result"
    }
   ],
   "source": [
    "# Train the classifier\n",
    "# Build a Random Forest classifier\n",
    "params = {'n_estimators': 200, 'max_depth': 8, 'random_state': 7}\n",
    "classifier = RandomForestClassifier(**params)\n",
    "classifier.fit(X, y)"
   ]
  },
  {
   "cell_type": "code",
   "execution_count": 5,
   "metadata": {},
   "outputs": [
    {
     "name": "stdout",
     "output_type": "stream",
     "text": [
      "Accuracy of the classifier: 77.66%\n"
     ]
    }
   ],
   "source": [
    "# Cross validation\n",
    "from sklearn import model_selection\n",
    "accuracy = model_selection.cross_val_score(classifier, X, y, scoring='accuracy', cv=3)\n",
    "print (\"Accuracy of the classifier: {}%\".format(round(100*accuracy.mean(), 2)))"
   ]
  },
  {
   "cell_type": "code",
   "execution_count": 6,
   "metadata": {},
   "outputs": [
    {
     "name": "stdout",
     "output_type": "stream",
     "text": [
      "input_data:  ['vhigh', 'vhigh', '2', '2', 'small', 'low']\n",
      "input_data_encoded:  [3 3 0 0 2 1]\n"
     ]
    }
   ],
   "source": [
    "# Testing encoding on single data instance\n",
    "input_data = ['vhigh', 'vhigh', '2', '2', 'small', 'low']\n",
    "input_data_encoded = [-1] * len(input_data)\n",
    "print (\"input_data: \",input_data)\n",
    "for i,item in enumerate(input_data):\n",
    "    input_data_encoded[i] = int(label_encoder[i].transform([input_data[i]]))\n",
    "input_data_encoded = np.array(input_data_encoded)\n",
    "print(\"input_data_encoded: \", input_data_encoded)\n"
   ]
  },
  {
   "cell_type": "code",
   "execution_count": 7,
   "metadata": {},
   "outputs": [
    {
     "name": "stdout",
     "output_type": "stream",
     "text": [
      "Output class:  ['unacc']\n"
     ]
    }
   ],
   "source": [
    "# Predict and print output for a particular datapoint\n",
    "reshaped_input_data_class = input_data_encoded.reshape(1,-1)\n",
    "output_class = classifier.predict(input_data_encoded.reshape(1, -1))\n",
    "print (\"Output class: \", label_encoder[-1].inverse_transform(output_class))"
   ]
  },
  {
   "cell_type": "code",
   "execution_count": 8,
   "metadata": {},
   "outputs": [
    {
     "name": "stdout",
     "output_type": "stream",
     "text": [
      "##### VALIDATION CURVES #####\n",
      "Param: n_estimators:\n",
      "Training scores:\n",
      " [[0.80680174 0.80824891 0.80752533 0.80694143 0.81055676]\n",
      " [0.79522431 0.80535456 0.81041968 0.80911063 0.81055676]\n",
      " [0.80101302 0.80680174 0.81114327 0.81127983 0.81561822]\n",
      " [0.8024602  0.80535456 0.81186686 0.80911063 0.8076645 ]\n",
      " [0.80028944 0.80463097 0.81114327 0.8076645  0.81272596]\n",
      " [0.80390738 0.80535456 0.81041968 0.81127983 0.81706435]\n",
      " [0.80390738 0.80463097 0.81114327 0.81344902 0.81778742]\n",
      " [0.80390738 0.80607815 0.81114327 0.81344902 0.81778742]] \n",
      "\n",
      "Param: n_estimators:\n",
      "Validation scores:\n",
      " [[0.71098266 0.76589595 0.72543353 0.76811594 0.73333333]\n",
      " [0.71098266 0.75433526 0.71965318 0.77101449 0.73333333]\n",
      " [0.71098266 0.72254335 0.71965318 0.76521739 0.73623188]\n",
      " [0.71098266 0.71387283 0.71965318 0.75942029 0.72753623]\n",
      " [0.71098266 0.74277457 0.71965318 0.75942029 0.74202899]\n",
      " [0.71098266 0.74277457 0.71965318 0.75942029 0.74782609]\n",
      " [0.71098266 0.74566474 0.71965318 0.75942029 0.74492754]\n",
      " [0.71098266 0.75144509 0.71965318 0.75942029 0.75072464]] \n",
      "\n"
     ]
    }
   ],
   "source": [
    "# Extract validation curves\n",
    "\n",
    "from sklearn.model_selection import validation_curve\n",
    "\n",
    "classifier = RandomForestClassifier(max_depth=4, random_state=7)\n",
    "parameter_grid = np.linspace(25, 200, 8).astype(int)\n",
    "\n",
    "train_scores, validation_scores = validation_curve(classifier,\n",
    "                                                  X, y,\n",
    "                                                  \"n_estimators\",\n",
    "                                                  parameter_grid,\n",
    "                                                  cv=5)\n",
    "\n",
    "print (\"##### VALIDATION CURVES #####\")\n",
    "print (\"Param: n_estimators:\")\n",
    "print (\"Training scores:\\n\", train_scores, \"\\n\")\n",
    "\n",
    "print (\"Param: n_estimators:\")\n",
    "print (\"Validation scores:\\n\", validation_scores, \"\\n\")"
   ]
  },
  {
   "cell_type": "code",
   "execution_count": 9,
   "metadata": {},
   "outputs": [
    {
     "data": {
      "image/png": "[encoded data removed]",
      "text/plain": [
       "<Figure size 432x288 with 1 Axes>"
      ]
     },
     "metadata": {
      "needs_background": "light"
     },
     "output_type": "display_data"
    }
   ],
   "source": [
    "# Plot the training curve\n",
    "plt.figure()\n",
    "plt.plot(parameter_grid, 100*np.average(train_scores, axis=1), color='black')\n",
    "plt.title('Training curve')\n",
    "plt.xlabel('Number of estimators')\n",
    "plt.ylabel('Accuracy')\n",
    "plt.show()"
   ]
  },
  {
   "cell_type": "code",
   "execution_count": 10,
   "metadata": {},
   "outputs": [
    {
     "name": "stdout",
     "output_type": "stream",
     "text": [
      "Param: max_depth:\n",
      "Training scores:\n",
      " [[0.71852388 0.70043415 0.70043415 0.69992769 0.69992769]\n",
      " [0.80607815 0.80535456 0.80752533 0.80043384 0.80694143]\n",
      " [0.90665702 0.91027496 0.92836469 0.89949385 0.90310918]\n",
      " [0.97467438 0.96743849 0.96888567 0.97541576 0.96601591]\n",
      " [0.99421129 0.99710564 0.99782923 1.         0.99349241]] \n",
      "\n",
      "Param: max_depth:\n",
      "Validation scores:\n",
      " [[0.69942197 0.69942197 0.69942197 0.70144928 0.70144928]\n",
      " [0.71098266 0.76589595 0.72543353 0.75942029 0.73333333]\n",
      " [0.71387283 0.76300578 0.7283237  0.82898551 0.83768116]\n",
      " [0.67630058 0.78612717 0.78034682 0.79710145 0.88695652]\n",
      " [0.6416185  0.76878613 0.75722543 0.80869565 0.87536232]] \n",
      "\n"
     ]
    },
    {
     "data": {
      "image/png": "[encoded data removed]",
      "text/plain": [
       "<Figure size 432x288 with 1 Axes>"
      ]
     },
     "metadata": {
      "needs_background": "light"
     },
     "output_type": "display_data"
    }
   ],
   "source": [
    "# Plot the validation curve\n",
    "classifier = RandomForestClassifier(n_estimators=20, random_state=7)\n",
    "parameter_grid = np.linspace(2, 10, 5).astype(int)\n",
    "\n",
    "train_scores, validation_scores = validation_curve(classifier,\n",
    "                                                  X, y,\n",
    "                                                  \"max_depth\",\n",
    "                                                  parameter_grid,\n",
    "                                                  cv=5)\n",
    "\n",
    "print (\"Param: max_depth:\")\n",
    "print (\"Training scores:\\n\", train_scores, \"\\n\")\n",
    "\n",
    "print (\"Param: max_depth:\")\n",
    "print (\"Validation scores:\\n\", validation_scores, \"\\n\")\n",
    "\n",
    "plt.figure()\n",
    "plt.plot(parameter_grid, 100*np.average(train_scores, axis=1), color='black')\n",
    "plt.title('Validation curve')\n",
    "plt.xlabel('Maximum depth of the tree')\n",
    "plt.ylabel('Accuracy')\n",
    "plt.show()"
   ]
  },
  {
   "cell_type": "code",
   "execution_count": 11,
   "metadata": {},
   "outputs": [
    {
     "name": "stdout",
     "output_type": "stream",
     "text": [
      "##### Learning curves #####\n",
      "Training scores:\n",
      "[[1. 1. 1. 1. 1.]\n",
      " [1. 1. 1. 1. 1.]\n",
      " [1. 1. 1. 1. 1.]\n",
      " [1. 1. 1. 1. 1.]]\n",
      "\n",
      "Validation scores:\n",
      "[[0.69942197 0.69942197 0.69942197 0.70144928 0.70144928]\n",
      " [0.71387283 0.76878613 0.77456647 0.76811594 0.70144928]\n",
      " [0.6734104  0.78612717 0.63583815 0.76811594 0.76811594]\n",
      " [0.71387283 0.75433526 0.78901734 0.75942029 0.76811594]]\n",
      "\n"
     ]
    }
   ],
   "source": [
    "# Learning curves\n",
    "from sklearn.model_selection import learning_curve\n",
    "\n",
    "classifier = RandomForestClassifier(random_state=7)\n",
    "\n",
    "parameter_grid = np.array([200, 500, 800, 1100])\n",
    "train_sizes, train_scores, validation_scores = learning_curve(classifier,\n",
    "                                                             X, y,\n",
    "                                                             train_sizes=parameter_grid,\n",
    "                                                             cv=5)\n",
    "print (\"##### Learning curves #####\")\n",
    "print (\"Training scores:\\n{}\\n\".format(train_scores))\n",
    "print (\"Validation scores:\\n{}\\n\".format(validation_scores))"
   ]
  },
  {
   "cell_type": "code",
   "execution_count": 12,
   "metadata": {},
   "outputs": [
    {
     "data": {
      "image/png": "[encoded data removed]",
      "text/plain": [
       "<Figure size 432x288 with 1 Axes>"
      ]
     },
     "metadata": {
      "needs_background": "light"
     },
     "output_type": "display_data"
    }
   ],
   "source": [
    "# Plot the learning curve\n",
    "plt.figure()\n",
    "plt.plot(parameter_grid, 100*np.average(train_scores, axis=1), color='black')\n",
    "plt.title('Learning curve')\n",
    "plt.xlabel('Number of training samples')\n",
    "plt.ylabel('Accuracy')\n",
    "plt.show()"
   ]
  },
  {
   "cell_type": "code",
   "execution_count": null,
   "metadata": {},
   "outputs": [],
   "source": []
  }
 ],
 "metadata": {
  "kernelspec": {
   "display_name": "Python 3",
   "language": "python",
   "name": "python3"
  },
  "language_info": {
   "codemirror_mode": {
    "name": "ipython",
    "version": 3
   },
   "file_extension": ".py",
   "mimetype": "text/x-python",
   "name": "python",
   "nbconvert_exporter": "python",
   "pygments_lexer": "ipython3",
   "version": "3.7.6"
  }
 },
 "nbformat": 4,
 "nbformat_minor": 4
}
