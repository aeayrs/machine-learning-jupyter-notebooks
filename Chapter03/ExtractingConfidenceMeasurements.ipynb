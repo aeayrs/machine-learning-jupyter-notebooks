{
 "cells": [
  {
   "cell_type": "code",
   "execution_count": 1,
   "metadata": {},
   "outputs": [],
   "source": [
    "import numpy as np\n",
    "import matplotlib.pyplot as plt\n",
    "from sklearn.svm import SVC\n",
    "\n",
    "import utilities \n",
    "\n",
    "# Load input data\n",
    "input_file = 'data_multivar.txt'\n",
    "X, y = utilities.load_data(input_file)"
   ]
  },
  {
   "cell_type": "code",
   "execution_count": 2,
   "metadata": {},
   "outputs": [
    {
     "data": {
      "text/plain": [
       "SVC(C=1.0, break_ties=False, cache_size=200, class_weight=None, coef0=0.0,\n",
       "    decision_function_shape='ovr', degree=3, gamma='scale', kernel='rbf',\n",
       "    max_iter=-1, probability=False, random_state=None, shrinking=True,\n",
       "    tol=0.001, verbose=False)"
      ]
     },
     "execution_count": 2,
     "metadata": {},
     "output_type": "execute_result"
    }
   ],
   "source": [
    "# Train test split\n",
    "from sklearn import model_selection\n",
    "\n",
    "X_train, X_test, y_train, y_test = model_selection.train_test_split(X, y, test_size=0.25, random_state=5)\n",
    "\n",
    "params = {'kernel': 'rbf'}\n",
    "classifier = SVC(**params)\n",
    "classifier.fit(X_train, y_train)"
   ]
  },
  {
   "cell_type": "code",
   "execution_count": 6,
   "metadata": {},
   "outputs": [
    {
     "name": "stdout",
     "output_type": "stream",
     "text": [
      "Distance from the boundary:\n",
      "[2.  1.5] --> 1.4641534796440951\n",
      "[8. 9.] --> 1.2027833384010422\n",
      "[4.8 5.2] --> -1.9202588134880436\n",
      "[4. 4.] --> -0.13555127690004642\n",
      "[2.5 7. ] --> 0.6173950571872193\n",
      "[7.6 2. ] --> 2.0058455177573045\n",
      "[5.4 5.9] --> -1.3395252492125262\n"
     ]
    }
   ],
   "source": [
    "# Measure distance from the boundary\n",
    "\n",
    "input_datapoints = np.array([[2, 1.5], [8, 9], [4.8, 5.2], [4, 4], [2.5, 7], [7.6, 2], [5.4, 5.9]])\n",
    "print (\"Distance from the boundary:\")\n",
    "for i in input_datapoints:\n",
    "    print (i, '-->', classifier.decision_function([i])[0])\n"
   ]
  },
  {
   "cell_type": "code",
   "execution_count": 8,
   "metadata": {},
   "outputs": [
    {
     "name": "stdout",
     "output_type": "stream",
     "text": [
      "Confidence measure:\n",
      "[2.  1.5] --> [0.01617191 0.98382809]\n",
      "[8. 9.] --> [0.03271503 0.96728497]\n",
      "[4.8 5.2] --> [0.99470532 0.00529468]\n",
      "[4. 4.] --> [0.57689148 0.42310852]\n",
      "[2.5 7. ] --> [0.14555204 0.85444796]\n",
      "[7.6 2. ] --> [0.00366846 0.99633154]\n",
      "[5.4 5.9] --> [0.97374783 0.02625217]\n"
     ]
    },
    {
     "data": {
      "image/png": "[encoded data removed]",
      "text/plain": [
       "<Figure size 432x288 with 1 Axes>"
      ]
     },
     "metadata": {},
     "output_type": "display_data"
    }
   ],
   "source": [
    "# Confidence measure\n",
    "params = {'kernel': 'rbf', 'probability': True}\n",
    "classifier = SVC(**params)\n",
    "classifier.fit(X_train, y_train)\n",
    "print (\"Confidence measure:\")\n",
    "for i in input_datapoints:\n",
    "    print (i, '-->', classifier.predict_proba([i])[0])\n",
    "\n",
    "utilities.plot_classifier(classifier, input_datapoints, [0]*len(input_datapoints), 'Input datapoints', 'True')\n",
    "plt.show()    "
   ]
  },
  {
   "cell_type": "code",
   "execution_count": null,
   "metadata": {},
   "outputs": [],
   "source": []
  }
 ],
 "metadata": {
  "kernelspec": {
   "display_name": "Python 3",
   "language": "python",
   "name": "python3"
  },
  "language_info": {
   "codemirror_mode": {
    "name": "ipython",
    "version": 3
   },
   "file_extension": ".py",
   "mimetype": "text/x-python",
   "name": "python",
   "nbconvert_exporter": "python",
   "pygments_lexer": "ipython3",
   "version": "3.7.6"
  }
 },
 "nbformat": 4,
 "nbformat_minor": 4
}
