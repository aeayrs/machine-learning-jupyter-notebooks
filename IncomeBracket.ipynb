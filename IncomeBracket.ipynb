{
 "cells": [
  {
   "cell_type": "code",
   "execution_count": 1,
   "metadata": {},
   "outputs": [],
   "source": [
    "import numpy as np\n",
    "from sklearn import preprocessing\n",
    "from sklearn.naive_bayes import GaussianNB"
   ]
  },
  {
   "cell_type": "code",
   "execution_count": 2,
   "metadata": {},
   "outputs": [],
   "source": [
    "input_file = \"Python-Machine-Learning-Cookbook/Chapter02/adult.data.txt\"\n",
    "\n",
    "# Reading the data\n",
    "X = []\n",
    "y = []\n",
    "count_lessthan50k = 0\n",
    "count_morethan50k = 0\n",
    "num_images_threshold = 10000\n",
    "\n",
    "with open(input_file, 'r') as f:\n",
    "    for line in f.readlines():\n",
    "        if '?' in line:\n",
    "            continue\n",
    "        \n",
    "        data = line[:-1].split(', ')\n",
    "        if data[-1] == '<=50K' and count_lessthan50k  < num_images_threshold:\n",
    "            X.append(data)\n",
    "            count_lessthan50k = count_lessthan50k + 1\n",
    "        elif data[-1] == '>50K' and count_morethan50k  < num_images_threshold:\n",
    "            X.append(data)\n",
    "            count_morethan50k = count_morethan50k + 1\n",
    "        \n",
    "        if count_lessthan50k >= num_images_threshold and count_morethan50k >= num_images_threshold:\n",
    "            break\n",
    "\n",
    "X = np.array(X) "
   ]
  },
  {
   "cell_type": "code",
   "execution_count": 3,
   "metadata": {},
   "outputs": [],
   "source": [
    "# convert string data to numerical data\n",
    "label_encoder = []\n",
    "X_encoded = np.empty(X.shape)\n",
    "\n",
    "for i,item in enumerate(X[0]):\n",
    "    if item.isdigit():\n",
    "        X_encoded[:,i] = X[:,i]\n",
    "    else:\n",
    "        label_encoder.append(preprocessing.LabelEncoder())\n",
    "        X_encoded[:,i] = label_encoder[-1].fit_transform(X[:,i])\n",
    "\n",
    "X = X_encoded[:, :-1].astype(int)\n",
    "y = X_encoded[:, -1].astype(int)"
   ]
  },
  {
   "cell_type": "code",
   "execution_count": 4,
   "metadata": {},
   "outputs": [
    {
     "data": {
      "text/plain": [
       "GaussianNB(priors=None, var_smoothing=1e-09)"
      ]
     },
     "execution_count": 4,
     "metadata": {},
     "output_type": "execute_result"
    }
   ],
   "source": [
    "# Build a classifier\n",
    "classifier_gaussiannb = GaussianNB()\n",
    "classifier_gaussiannb.fit(X, y)"
   ]
  },
  {
   "cell_type": "code",
   "execution_count": 5,
   "metadata": {},
   "outputs": [],
   "source": [
    "# cross validation\n",
    "from sklearn import model_selection\n",
    "\n",
    "X_train, X_test, y_train, y_test = model_selection.train_test_split(X, y, test_size=0.25, random_state=5)\n",
    "classifier_gaussiannb.fit(X_train, y_train)\n",
    "y_test_pred = classifier_gaussiannb.predict(X_test)"
   ]
  },
  {
   "cell_type": "code",
   "execution_count": 7,
   "metadata": {},
   "outputs": [
    {
     "name": "stdout",
     "output_type": "stream",
     "text": [
      "F1 score: 63.059%\n"
     ]
    }
   ],
   "source": [
    "# compute F1 score of the classifier\n",
    "f1 = model_selection.cross_val_score(classifier_gaussiannb, X, y, scoring='f1_weighted', cv=5)\n",
    "print (\"F1 score: {}%\".format(round(100*f1.mean(), 3)))"
   ]
  },
  {
   "cell_type": "code",
   "execution_count": 8,
   "metadata": {},
   "outputs": [
    {
     "name": "stdout",
     "output_type": "stream",
     "text": [
      "['39', 'State-gov', '77516', 'Bachelors', '13', 'Mever-married', 'Adm-clearical', 'Not-in-family', 'White', 'Male', '2174', '0', '40', 'United-States']\n",
      "[-1, -1, -1, -1, -1, -1, -1, -1, -1, -1, -1, -1, -1, -1]\n"
     ]
    }
   ],
   "source": [
    "# Testing encoding on single data instance\n",
    "input_data = ['39', 'State-gov', '77516', 'Bachelors', '13', 'Mever-married',\n",
    "             'Adm-clearical', 'Not-in-family', 'White', 'Male', '2174', \n",
    "             '0', '40', 'United-States']\n",
    "count = 0\n",
    "input_data_encoder = [-1] * len(input_data)\n"
   ]
  },
  {
   "cell_type": "code",
   "execution_count": null,
   "metadata": {},
   "outputs": [],
   "source": []
  }
 ],
 "metadata": {
  "kernelspec": {
   "display_name": "Python 3",
   "language": "python",
   "name": "python3"
  },
  "language_info": {
   "codemirror_mode": {
    "name": "ipython",
    "version": 3
   },
   "file_extension": ".py",
   "mimetype": "text/x-python",
   "name": "python",
   "nbconvert_exporter": "python",
   "pygments_lexer": "ipython3",
   "version": "3.7.6"
  }
 },
 "nbformat": 4,
 "nbformat_minor": 4
}
