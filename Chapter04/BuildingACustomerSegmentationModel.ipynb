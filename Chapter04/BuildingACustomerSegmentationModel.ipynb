{
 "cells": [
  {
   "cell_type": "markdown",
   "metadata": {},
   "source": [
    "**Building a Customer Segmentation Model**\n",
    "\n",
    "One of the main application of unsupervised learning is market segmentation. This is when\n",
    "we don't have labeled data available all the time, but it's important to segment the market\n",
    "so that people can target individual groups. This is very useful in advertising, inventory\n",
    "management, implementing strategies for distribution, mass media, and so on. Let's go\n",
    "ahead and apply unsupervised learning to one such case to see how it can be useful.\n",
    "\n",
    "We will be dealing with a wholesale vendor and his customers. We will be using tht data\n",
    "available at *https://archive.ics.uci.edu/ml/datasets/Wholesale+customers*.  The spreadsheet\n",
    "contains data regarding the consumption of different types of items by their customers\n",
    "and our goal is to find clusters so that they can optimize their sales and distribution\n",
    "strategy."
   ]
  },
  {
   "cell_type": "code",
   "execution_count": 1,
   "metadata": {},
   "outputs": [],
   "source": [
    "# Import the necessary packages\n",
    "import csv\n",
    "\n",
    "import numpy as np\n",
    "from sklearn import cluster, covariance, manifold\n",
    "from sklearn.cluster import MeanShift, estimate_bandwidth\n",
    "import matplotlib.pyplot as plt"
   ]
  },
  {
   "cell_type": "code",
   "execution_count": 2,
   "metadata": {},
   "outputs": [],
   "source": [
    "# Load data from input file\n",
    "input_file = 'wholesale.csv'\n",
    "file_reader = csv.reader(open(input_file, 'r'), delimiter=',')\n",
    "X = []\n",
    "for count, row in enumerate(file_reader):\n",
    "    if not count:\n",
    "        names = row[2:]\n",
    "        continue\n",
    "\n",
    "    X.append([float(x) for x in row[2:]])\n",
    "\n",
    "# Input data as numpy array\n",
    "X = np.array(X)"
   ]
  },
  {
   "cell_type": "code",
   "execution_count": 3,
   "metadata": {},
   "outputs": [
    {
     "name": "stdout",
     "output_type": "stream",
     "text": [
      "Number of clusters in input data = 8\n"
     ]
    }
   ],
   "source": [
    "# Build a Mean Shift model with this data\n",
    "# Estimating the bandwidth \n",
    "bandwidth = estimate_bandwidth(X, quantile=0.8, n_samples=len(X))\n",
    "\n",
    "# Compute clustering with MeanShift\n",
    "meanshift_estimator = MeanShift(bandwidth=bandwidth, bin_seeding=True)\n",
    "meanshift_estimator.fit(X)\n",
    "labels = meanshift_estimator.labels_\n",
    "centroids = meanshift_estimator.cluster_centers_\n",
    "num_clusters = len(np.unique(labels))\n",
    "\n",
    "print (\"Number of clusters in input data =\", num_clusters)\n",
    "   "
   ]
  },
  {
   "cell_type": "code",
   "execution_count": 4,
   "metadata": {},
   "outputs": [
    {
     "name": "stdout",
     "output_type": "stream",
     "text": [
      "Centroids of clusters:\n",
      "Fre\tMil\tGro\tFro\tDet\tDel\n",
      "9632\t4671\t6593\t2570\t2296\t1248\n",
      "40204\t46314\t57584\t5518\t25436\t4241\n",
      "112151\t29627\t18148\t16745\t4948\t8550\n",
      "36847\t43950\t20170\t36534\t239\t47943\n",
      "32717\t16784\t13626\t60869\t1272\t5609\n",
      "22925\t73498\t32114\t987\t20070\t903\n",
      "16117\t46197\t92780\t1026\t40827\t2944\n",
      "8565\t4980\t67298\t131\t38102\t1215\n"
     ]
    }
   ],
   "source": [
    "# Show the centroids of these clusters\n",
    "print (\"Centroids of clusters:\")\n",
    "print ('\\t'.join([name[:3] for name in names]))\n",
    "for centroid in centroids:\n",
    "    print ('\\t'.join([str(int(x)) for x in centroid]))"
   ]
  },
  {
   "cell_type": "code",
   "execution_count": 5,
   "metadata": {},
   "outputs": [
    {
     "data": {
      "image/png": "[encoded data removed]",
      "text/plain": [
       "<Figure size 432x288 with 1 Axes>"
      ]
     },
     "metadata": {
      "needs_background": "light"
     },
     "output_type": "display_data"
    }
   ],
   "source": [
    "################\n",
    "# Visualizing data\n",
    "\n",
    "centroids_milk_groceries = centroids[:, 1:3]\n",
    "\n",
    "# Plot the nodes using the coordinates of our centroids_milk_groceries\n",
    "plt.figure()\n",
    "plt.scatter(centroids_milk_groceries[:,0], centroids_milk_groceries[:,1], \n",
    "        s=100, edgecolors='k', facecolors='none')\n",
    "\n",
    "offset = 0.2\n",
    "plt.xlim(centroids_milk_groceries[:,0].min() - offset * centroids_milk_groceries[:,0].ptp(),\n",
    "        centroids_milk_groceries[:,0].max() + offset * centroids_milk_groceries[:,0].ptp(),)\n",
    "plt.ylim(centroids_milk_groceries[:,1].min() - offset * centroids_milk_groceries[:,1].ptp(),\n",
    "        centroids_milk_groceries[:,1].max() + offset * centroids_milk_groceries[:,1].ptp())\n",
    "\n",
    "plt.title('Centroids of clusters for milk and groceries')\n",
    "plt.show()"
   ]
  }
 ],
 "metadata": {
  "kernelspec": {
   "display_name": "Python 3",
   "language": "python",
   "name": "python3"
  },
  "language_info": {
   "codemirror_mode": {
    "name": "ipython",
    "version": 3
   },
   "file_extension": ".py",
   "mimetype": "text/x-python",
   "name": "python",
   "nbconvert_exporter": "python",
   "pygments_lexer": "ipython3",
   "version": "3.7.6"
  }
 },
 "nbformat": 4,
 "nbformat_minor": 4
}
