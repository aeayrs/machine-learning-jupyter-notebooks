{
 "cells": [
  {
   "cell_type": "code",
   "execution_count": 1,
   "metadata": {},
   "outputs": [],
   "source": [
    "import numpy as np\n",
    "from sklearn import linear_model\n",
    "import matplotlib.pyplot as plt "
   ]
  },
  {
   "cell_type": "code",
   "execution_count": 2,
   "metadata": {},
   "outputs": [],
   "source": [
    "def plot_classifier(classifier, X, y):\n",
    "    # define ranges to plot the figure\n",
    "    x_min, x_max = min(X[:,0]) - 1.0, max(X[:,0]) + 1.0\n",
    "    y_min, y_max = min(X[:,1]) - 1.0, max(X[:,1]) + 1.0\n",
    "    \n",
    "    # denotes the step size that will be used in the mesh grid\n",
    "    step_size = 0.01\n",
    "    \n",
    "    # define the mesh grid\n",
    "    x_values, y_values = np.meshgrid(np.arange(x_min, x_max, step_size),\n",
    "                                     np.arange(y_min, y_max, step_size))\n",
    "    \n",
    "    # compute the classifier output\n",
    "    mesh_output = classifier.predict(np.c_[x_values.ravel(), y_values.ravel()])\n",
    "    \n",
    "    # reshape the array\n",
    "    mesh_output = mesh_output.reshape(x_values.shape)\n",
    "    \n",
    "    # plot the output using a colored plot\n",
    "    plt.figure()\n",
    "    \n",
    "    # choose a color scheme\n",
    "    plt.pcolormesh(x_values, y_values, mesh_output, cmap=plt.cm.gray)\n",
    "    \n",
    "    # overlay the training points on the plot\n",
    "    plt.scatter(X[:,0], X[:,1], c=y, s=80, edgecolors='black', linewidth=1, cmap=plt.cm.Paired)\n",
    "    \n",
    "    # specify the boundaries of the figure\n",
    "    plt.xlim(x_values.min(), x_values.max())\n",
    "    plt.ylim(y_values.min(), y_values.max())\n",
    "    \n",
    "    # specify the ticks on the X and Y axes\n",
    "    plt.xticks((np.arange(int(min(X[:, 0])-1), int(max(X[:, 0])+1), 1.0)))\n",
    "    plt.yticks((np.arange(int(min(X[:, 1])-1), int(max(X[:, 1])+1), 1.0)))\n",
    "    \n",
    "    plt.show()"
   ]
  },
  {
   "cell_type": "code",
   "execution_count": 3,
   "metadata": {},
   "outputs": [],
   "source": [
    "X = np.array([[4,7], [3.5,8], [3.1,6.2], [0.5,1],\n",
    "             [1,2], [1.2,1.9], [6,2], [5.7,1.5], [5.4, 2.2]])\n",
    "y = np.array([0,0,0,1,1,1,2,2,2])"
   ]
  },
  {
   "cell_type": "code",
   "execution_count": 4,
   "metadata": {},
   "outputs": [
    {
     "data": {
      "text/plain": [
       "LogisticRegression(C=10, class_weight=None, dual=False, fit_intercept=True,\n",
       "                   intercept_scaling=1, l1_ratio=None, max_iter=100,\n",
       "                   multi_class='auto', n_jobs=None, penalty='l2',\n",
       "                   random_state=None, solver='liblinear', tol=0.0001, verbose=0,\n",
       "                   warm_start=False)"
      ]
     },
     "execution_count": 4,
     "metadata": {},
     "output_type": "execute_result"
    }
   ],
   "source": [
    "classifier100 = linear_model.LogisticRegression(solver='liblinear', C=100)\n",
    "classifier100.fit(X, y)\n",
    "classifier1000 = linear_model.LogisticRegression(solver='liblinear', C=1000)\n",
    "classifier1000.fit(X, y)\n",
    "classifier10 = linear_model.LogisticRegression(solver='liblinear', C=10)\n",
    "classifier10.fit(X, y)\n"
   ]
  },
  {
   "cell_type": "code",
   "execution_count": 5,
   "metadata": {},
   "outputs": [
    {
     "data": {
      "image/png": "[encoded data removed]",
      "text/plain": [
       "<Figure size 432x288 with 1 Axes>"
      ]
     },
     "metadata": {
      "needs_background": "light"
     },
     "output_type": "display_data"
    },
    {
     "data": {
      "image/png": "[encoded data removed]",
      "text/plain": [
       "<Figure size 432x288 with 1 Axes>"
      ]
     },
     "metadata": {
      "needs_background": "light"
     },
     "output_type": "display_data"
    },
    {
     "data": {
      "image/png": "[encoded data removed]",
      "text/plain": [
       "<Figure size 432x288 with 1 Axes>"
      ]
     },
     "metadata": {
      "needs_background": "light"
     },
     "output_type": "display_data"
    }
   ],
   "source": [
    "plot_classifier(classifier100, X, y)\n",
    "plot_classifier(classifier1000, X, y)\n",
    "plot_classifier(classifier10, X, y)"
   ]
  }
 ],
 "metadata": {
  "kernelspec": {
   "display_name": "Python 3",
   "language": "python",
   "name": "python3"
  },
  "language_info": {
   "codemirror_mode": {
    "name": "ipython",
    "version": 3
   },
   "file_extension": ".py",
   "mimetype": "text/x-python",
   "name": "python",
   "nbconvert_exporter": "python",
   "pygments_lexer": "ipython3",
   "version": "3.7.6"
  }
 },
 "nbformat": 4,
 "nbformat_minor": 4
}
