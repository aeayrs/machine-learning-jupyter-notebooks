{
 "cells": [
  {
   "cell_type": "markdown",
   "metadata": {},
   "source": [
    "One of the major parts of any machine learning system is the data processing pipeline. Befor\n",
    "data is fed into the machine learning algorithm for training, we need to process it in different\n",
    "ways to make it suitable for that algorithm. Have a robusgt data processing pipeline goes a\n",
    "long way in building an accurate and scalable machine learning system. There are a lot of\n",
    "basic functionalities available, and data processing pipelines usually consist of a combination\n",
    "of these. Instead of calling these functions in a nested or loopy way, it's better to use the\n",
    "functional programming paradigm to build the combination. Let's take a look at how to\n",
    "combine these functions to form a reusable function composition. In this recipe, we will\n",
    "create three basic functions and look at how to compose a pipeline."
   ]
  },
  {
   "cell_type": "code",
   "execution_count": 1,
   "metadata": {},
   "outputs": [],
   "source": [
    "import numpy as np\n",
    "from functools import reduce"
   ]
  },
  {
   "cell_type": "code",
   "execution_count": 2,
   "metadata": {},
   "outputs": [],
   "source": [
    "# Define a function to add 3 to each element of the array \n",
    "def add3(input_array):\n",
    "    return list(map(lambda x: x+3, input_array))"
   ]
  },
  {
   "cell_type": "code",
   "execution_count": 3,
   "metadata": {},
   "outputs": [],
   "source": [
    "# Define a function to multiply each element of the array by 2\n",
    "def mul2(input_array):\n",
    "    return list(map(lambda x: x*2, input_array))"
   ]
  },
  {
   "cell_type": "code",
   "execution_count": 4,
   "metadata": {},
   "outputs": [],
   "source": [
    "# Define a function to subtract 5 from each element of the array\n",
    "def sub5(input_array):\n",
    "    return list(map(lambda x: x-5, input_array))"
   ]
  },
  {
   "cell_type": "code",
   "execution_count": 5,
   "metadata": {},
   "outputs": [],
   "source": [
    "# Define a function composer that takes functions a input arguments at returns\n",
    "# a composed function. This composed function is basically a function that\n",
    "# applies all of the input functions in a sequence\n",
    "\n",
    "def function_composer(*args):\n",
    "    return reduce(lambda f,g: lambda x: f(g(x)), args)\n",
    "\n",
    "# The reduce function is used to combine all the input functions by\n",
    "# successively applying the functions in sequence"
   ]
  },
  {
   "cell_type": "code",
   "execution_count": 6,
   "metadata": {},
   "outputs": [
    {
     "name": "stdout",
     "output_type": "stream",
     "text": [
      "arr= [2 5 4 7]\n",
      "Operation: add3(mul2(sub5(arr)))\n",
      "Output using the lengthy way:  [5, 11, 9, 15]\n",
      "Output using function composition:  [5, 11, 9, 15]\n",
      "Operation: sub5(add3(mul2(sub5(mul2(arr)))))\n",
      "Output:  [-10, 2, -2, 10]\n"
     ]
    }
   ],
   "source": [
    "arr = np.array((2, 5, 4, 7))\n",
    "print(\"arr=\",arr)\n",
    "\n",
    "print(\"Operation: add3(mul2(sub5(arr)))\")\n",
    "arr1 = add3(arr)\n",
    "arr2 = mul2(arr1)\n",
    "arr3 = sub5(arr2)\n",
    "print(\"Output using the lengthy way: \", arr3)\n",
    "\n",
    "# Use the function composer to achieve the same thing in a single line\n",
    "func_composed = function_composer(sub5, mul2, add3)\n",
    "print(\"Output using function composition: \", func_composed(arr))\n",
    "\n",
    "# We can do the same thing in a single line with the previous method as well but the\n",
    "# notation becomes really nested and unreadable. Also, this is not reusable! You have\n",
    "# to write the whole thing again if you want to reuse this sequence of operations:\n",
    "print(\"Operation: sub5(add3(mul2(sub5(mul2(arr)))))\")\n",
    "print(\"Output: \",function_composer(mul2, sub5, mul2, add3, sub5)(arr))"
   ]
  },
  {
   "cell_type": "code",
   "execution_count": null,
   "metadata": {},
   "outputs": [],
   "source": []
  }
 ],
 "metadata": {
  "kernelspec": {
   "display_name": "Python 3",
   "language": "python",
   "name": "python3"
  },
  "language_info": {
   "codemirror_mode": {
    "name": "ipython",
    "version": 3
   },
   "file_extension": ".py",
   "mimetype": "text/x-python",
   "name": "python",
   "nbconvert_exporter": "python",
   "pygments_lexer": "ipython3",
   "version": "3.7.6"
  }
 },
 "nbformat": 4,
 "nbformat_minor": 4
}
