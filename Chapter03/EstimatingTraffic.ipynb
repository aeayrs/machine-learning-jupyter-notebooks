{
 "cells": [
  {
   "cell_type": "code",
   "execution_count": 1,
   "metadata": {},
   "outputs": [],
   "source": [
    "import numpy as np\n",
    "from sklearn import preprocessing\n",
    "from sklearn.svm import SVR\n",
    "\n",
    "input_file='traffic_data.txt'\n",
    "\n",
    "# Reading the data\n",
    "X = []\n",
    "count = 0\n",
    "with open(input_file, 'r') as f:\n",
    "    for line in f.readlines():\n",
    "        data = line[:-1].split(',')\n",
    "        X.append(data)\n",
    "X = np.array(X)"
   ]
  },
  {
   "cell_type": "code",
   "execution_count": 2,
   "metadata": {},
   "outputs": [],
   "source": [
    "# Convert string data to numerical data\n",
    "label_encoder = []\n",
    "X_encoded = np.empty(X.shape)\n",
    "for i, item in enumerate(X[0]):\n",
    "    if item.isdigit():\n",
    "        X_encoded[:, i] = X[:, i]\n",
    "    else:\n",
    "        label_encoder.append(preprocessing.LabelEncoder())\n",
    "        X_encoded[:, i] = label_encoder[-1].fit_transform(X[:, i])\n",
    "X = X_encoded[:, :-1].astype(int)\n",
    "y = X_encoded[:, -1].astype(int)"
   ]
  },
  {
   "cell_type": "code",
   "execution_count": 3,
   "metadata": {},
   "outputs": [
    {
     "name": "stdout",
     "output_type": "stream",
     "text": [
      "Mean absolute error = 7.28\n",
      "Predicted traffic: 29\n"
     ]
    }
   ],
   "source": [
    "# Build SVR\n",
    "params = {'kernel': 'rbf', 'C': 10.0, 'epsilon': 0.2}\n",
    "regressor = SVR(**params)\n",
    "regressor.fit (X, y)\n",
    "\n",
    "# Cross validation\n",
    "import sklearn.metrics as sm\n",
    "y_pred = regressor.predict(X)\n",
    "print (\"Mean absolute error = {}\".format(round(sm.mean_absolute_error(y, y_pred), 2)))\n",
    "\n",
    "# Testing encoding on single data instance\n",
    "input_data = ['Tuesday', '13:35', 'San Francisco', 'yes']\n",
    "input_data_encoded = [-1] * len(input_data)\n",
    "count = 0\n",
    "\n",
    "for i, item in enumerate(input_data):\n",
    "    if item.isdigit():\n",
    "        input_data_encoded[i] = int(input_data[i])\n",
    "    else:\n",
    "        input_data_encoded[i] = int(label_encoder[count].transform([input_data[i]]))\n",
    "        count = count + 1\n",
    "input_data_encoded = np.array(input_data_encoded)\n",
    "\n",
    "# Predict and print output for a particular datapoint\n",
    "print (\"Predicted traffic: {}\".format(int(regressor.predict(input_data_encoded.reshape(1, -1)))))"
   ]
  }
 ],
 "metadata": {
  "kernelspec": {
   "display_name": "Python 3",
   "language": "python",
   "name": "python3"
  },
  "language_info": {
   "codemirror_mode": {
    "name": "ipython",
    "version": 3
   },
   "file_extension": ".py",
   "mimetype": "text/x-python",
   "name": "python",
   "nbconvert_exporter": "python",
   "pygments_lexer": "ipython3",
   "version": "3.7.6"
  }
 },
 "nbformat": 4,
 "nbformat_minor": 4
}
