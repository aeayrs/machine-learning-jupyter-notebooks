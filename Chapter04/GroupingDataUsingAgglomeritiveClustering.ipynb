{
 "cells": [
  {
   "cell_type": "markdown",
   "metadata": {},
   "source": [
    "Before we talk about agglomerative clustering, we need to understand hierarchical clustering.\n",
    "**Hierarchical clustering** refers to a set of clustering algorithms that build tree-like clusters by\n",
    "successively splitting and merging them. This hierarchical structure is represented using a tree.\n",
    "\n",
    "Hierarchical clustering algorithms cna be either bottom-up or top-down. Now what does this \n",
    "mean? In bottom-up algorithms, each datapoint is treated as a separate cluster with a single\n",
    "object. These clusters are then successively merged until all the clusters are merged into a\n",
    "single giant cluster. This is called **agglomerative clustering**. On the other hand, top-down\n",
    "algorithms start with a gian cluster and successively split these clusters until individual\n",
    "datapoints are reached. You can lean more about it at\n",
    "http://nlp.stanford.edi/IR-book/html/htmledition/hierarchical-agglomeritive-clustering-1.html"
   ]
  },
  {
   "cell_type": "code",
   "execution_count": null,
   "metadata": {},
   "outputs": [],
   "source": [
    "import numpy as np\n",
    "import matplotlib.pyplot as plt\n",
    "from sklearn.cluster import AgglomerativeClustering\n",
    "from sklearn.neighbors import kneighbors_graph"
   ]
  },
  {
   "cell_type": "code",
   "execution_count": null,
   "metadata": {},
   "outputs": [],
   "source": [
    "# Define a function to perform agglomeritive clustering\n",
    "def perform_clustering(X, connectivity, title, num_clusters=3, linkage='ward'):\n",
    "    plt.figure()\n",
    "    model = AgglomerativeClustering(linkage=linkage, \n",
    "                    connectivity=connectivity, n_clusters=num_clusters)\n",
    "    model.fit(X)\n",
    "\n",
    "    # extract labels\n",
    "    labels = model.labels_\n",
    "\n",
    "    # specify marker shapes for different clusters\n",
    "    markers = '.vx'\n",
    "\n",
    "    # iterate through the datapoints and plot them accordingly using different markers\n",
    "    for i, marker in zip(range(num_clusters), markers):\n",
    "        # plot the points belong to the current cluster\n",
    "        plt.scatter(X[labels==i, 0], X[labels==i, 1], s=50, \n",
    "                    marker=marker, color='k', facecolors='none')\n",
    "\n",
    "    plt.title(title)"
   ]
  },
  {
   "cell_type": "markdown",
   "metadata": {},
   "source": [
    "In order to demonstrate the advantage of agglomerative clustering, we need to\n",
    "run it on datapoints that are linked spatially but also located close to each\n",
    "other in space. We want the linked datapoints to belong to the same cluster as\n",
    "opposed to datapoints that are just spatially close to each other. Let's define\n",
    "a function to get a set of datapoints on a spiral:"
   ]
  },
  {
   "cell_type": "code",
   "execution_count": null,
   "metadata": {},
   "outputs": [],
   "source": [
    "def get_spiral(t, noise_amplitude=0.5):\n",
    "    r = t\n",
    "    x = r * np.cos(t)\n",
    "    y = r * np.sin(t)\n",
    "\n",
    "    return add_noise(x, y, noise_amplitude)"
   ]
  },
  {
   "cell_type": "code",
   "execution_count": null,
   "metadata": {},
   "outputs": [],
   "source": [
    "# Add some noise to the curve to add some uncertainty\n",
    "def add_noise(x, y, amplitude):\n",
    "    X = np.concatenate((x, y))\n",
    "    X += amplitude * np.random.randn(2, X.shape[1])\n",
    "    return X.T"
   ]
  },
  {
   "cell_type": "code",
   "execution_count": null,
   "metadata": {},
   "outputs": [],
   "source": [
    "# Define a function to get datapoints located on a rose curve\n",
    "def get_rose(t, noise_amplitude=0.02):\n",
    "    # Equation for \"rose\" (or rhodonea curve); if k is odd, then\n",
    "    # the curve will have k petals, else it will have 2k petals\n",
    "    k = 5       \n",
    "    r = np.cos(k*t) + 0.25 \n",
    "    x = r * np.cos(t)\n",
    "    y = r * np.sin(t)\n",
    "\n",
    "    return add_noise(x, y, noise_amplitude)"
   ]
  },
  {
   "cell_type": "code",
   "execution_count": null,
   "metadata": {},
   "outputs": [],
   "source": [
    "# Define a function to get datapoints located on a hypotrochoid\n",
    "def get_hypotrochoid(t, noise_amplitude=0):\n",
    "    a, b, h = 10.0, 2.0, 4.0\n",
    "    x = (a - b) * np.cos(t) + h * np.cos((a - b) / b * t) \n",
    "    y = (a - b) * np.sin(t) - h * np.sin((a - b) / b * t) \n",
    "\n",
    "    return add_noise(x, y, 0)"
   ]
  },
  {
   "cell_type": "code",
   "execution_count": null,
   "metadata": {},
   "outputs": [],
   "source": [
    "if __name__=='__main__':\n",
    "    # Generate sample data\n",
    "    n_samples = 500 \n",
    "    np.random.seed(2)\n",
    "    t = 2.5 * np.pi * (1 + 2 * np.random.rand(1, n_samples))\n",
    "    X = get_spiral(t)\n",
    "\n",
    "    # No connectivity\n",
    "    connectivity = None \n",
    "    perform_clustering(X, connectivity, 'No connectivity')\n",
    "\n",
    "    # Create K-Neighbors graph \n",
    "    connectivity = kneighbors_graph(X, 10, include_self=False)\n",
    "    perform_clustering(X, connectivity, 'K-Neighbors connectivity')\n",
    "\n",
    "    X_rose = get_rose(t)\n",
    "    # No connectivity\n",
    "    connectivity = None \n",
    "    perform_clustering(X_rose, connectivity, 'Rose: No connectivity')\n",
    "\n",
    "    # Create K-Neighbors graph \n",
    "    connectivity = kneighbors_graph(X_rose, 10, include_self=False)\n",
    "    perform_clustering(X_rose, connectivity, 'Rose: K-Neighbors connectivity')\n",
    "\n",
    "    X_troch = get_hypotrochoid(t)\n",
    "    # No connectivity\n",
    "    connectivity = None \n",
    "    perform_clustering(X_troch, connectivity, 'Hypotrochoid: No connectivity')\n",
    "\n",
    "    # Create K-Neighbors graph \n",
    "    connectivity = kneighbors_graph(X_troch, 10, include_self=False)\n",
    "    perform_clustering(X_troch, connectivity, 'Hypotrochoid: K-Neighbors connectivity')\n",
    "\n",
    "\n",
    "\n",
    "    plt.show()"
   ]
  }
 ],
 "metadata": {
  "kernelspec": {
   "display_name": "Python 3",
   "language": "python",
   "name": "python3"
  },
  "language_info": {
   "codemirror_mode": {
    "name": "ipython",
    "version": 3
   },
   "file_extension": ".py",
   "mimetype": "text/x-python",
   "name": "python",
   "nbconvert_exporter": "python",
   "pygments_lexer": "ipython3",
   "version": "3.7.6"
  }
 },
 "nbformat": 4,
 "nbformat_minor": 4
}
